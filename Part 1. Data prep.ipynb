{
 "cells": [
  {
   "cell_type": "markdown",
   "metadata": {},
   "source": [
    "# Part 1: Data preparation\n",
    "Julianne Freeman<br>\n",
    "Insight Data Science Fellow 2018B"
   ]
  },
  {
   "cell_type": "code",
   "execution_count": 1,
   "metadata": {
    "ExecuteTime": {
     "end_time": "2018-06-30T17:37:37.796701Z",
     "start_time": "2018-06-30T17:37:37.109589Z"
    },
    "collapsed": false
   },
   "outputs": [
    {
     "data": {
      "application/json": {
       "Software versions": [
        {
         "module": "Python",
         "version": "3.6.3 64bit [GCC 4.2.1 Compatible Clang 4.0.1 (tags/RELEASE_401/final)]"
        },
        {
         "module": "IPython",
         "version": "5.1.0"
        },
        {
         "module": "OS",
         "version": "Darwin 16.1.0 x86_64 i386 64bit"
        },
        {
         "module": "numpy",
         "version": "1.14.4"
        },
        {
         "module": "scipy",
         "version": "0.18.1"
        },
        {
         "module": "matplotlib",
         "version": "2.0.0"
        },
        {
         "module": "pandas",
         "version": "0.19.2"
        }
       ]
      },
      "text/html": [
       "<table><tr><th>Software</th><th>Version</th></tr><tr><td>Python</td><td>3.6.3 64bit [GCC 4.2.1 Compatible Clang 4.0.1 (tags/RELEASE_401/final)]</td></tr><tr><td>IPython</td><td>5.1.0</td></tr><tr><td>OS</td><td>Darwin 16.1.0 x86_64 i386 64bit</td></tr><tr><td>numpy</td><td>1.14.4</td></tr><tr><td>scipy</td><td>0.18.1</td></tr><tr><td>matplotlib</td><td>2.0.0</td></tr><tr><td>pandas</td><td>0.19.2</td></tr><tr><td colspan='2'>Sat Jun 30 17:37:37 2018 PDT</td></tr></table>"
      ],
      "text/latex": [
       "\\begin{tabular}{|l|l|}\\hline\n",
       "{\\bf Software} & {\\bf Version} \\\\ \\hline\\hline\n",
       "Python & 3.6.3 64bit [GCC 4.2.1 Compatible Clang 4.0.1 (tags/RELEASE\\_401/final)] \\\\ \\hline\n",
       "IPython & 5.1.0 \\\\ \\hline\n",
       "OS & Darwin 16.1.0 x86\\_64 i386 64bit \\\\ \\hline\n",
       "numpy & 1.14.4 \\\\ \\hline\n",
       "scipy & 0.18.1 \\\\ \\hline\n",
       "matplotlib & 2.0.0 \\\\ \\hline\n",
       "pandas & 0.19.2 \\\\ \\hline\n",
       "\\hline \\multicolumn{2}{|l|}{Sat Jun 30 17:37:37 2018 PDT} \\\\ \\hline\n",
       "\\end{tabular}\n"
      ],
      "text/plain": [
       "Software versions\n",
       "Python 3.6.3 64bit [GCC 4.2.1 Compatible Clang 4.0.1 (tags/RELEASE_401/final)]\n",
       "IPython 5.1.0\n",
       "OS Darwin 16.1.0 x86_64 i386 64bit\n",
       "numpy 1.14.4\n",
       "scipy 0.18.1\n",
       "matplotlib 2.0.0\n",
       "pandas 0.19.2\n",
       "Sat Jun 30 17:37:37 2018 PDT"
      ]
     },
     "execution_count": 1,
     "metadata": {},
     "output_type": "execute_result"
    }
   ],
   "source": [
    "%matplotlib inline\n",
    "%load_ext autoreload\n",
    "%autoreload 2\n",
    "%load_ext version_information\n",
    "%version_information numpy, scipy, matplotlib, pandas"
   ]
  },
  {
   "cell_type": "code",
   "execution_count": 1,
   "metadata": {
    "ExecuteTime": {
     "end_time": "2018-07-06T23:52:25.860803Z",
     "start_time": "2018-07-06T23:52:25.117219Z"
    },
    "collapsed": false
   },
   "outputs": [],
   "source": [
    "from datetime import datetime \n",
    "import requests\n",
    "import pandas as pd\n",
    "import numpy as np\n",
    "import matplotlib.pyplot as plt\n",
    "import warnings\n",
    "import os\n",
    "from collections import Counter\n",
    "import random\n",
    "\n",
    "#never print matching warnings\n",
    "warnings.filterwarnings('ignore') \n",
    "\n",
    "#set to display all output\n",
    "from IPython.core.interactiveshell import InteractiveShell\n",
    "InteractiveShell.ast_node_interactivity = \"all\"\n",
    "\n",
    "#import seaborn to draw pretty graphs\n",
    "import seaborn as sns\n",
    "sns.set_style('whitegrid')\n",
    "\n",
    "#to load images\n",
    "from PIL import Image\n",
    "\n",
    "#download videos\n",
    "from pytube import YouTube\n",
    "\n",
    "#train test split\n",
    "from sklearn.cross_validation import train_test_split"
   ]
  },
  {
   "cell_type": "markdown",
   "metadata": {},
   "source": [
    "# 1. Prepare training and validation images"
   ]
  },
  {
   "cell_type": "markdown",
   "metadata": {},
   "source": [
    "### Obtain images"
   ]
  },
  {
   "cell_type": "markdown",
   "metadata": {},
   "source": [
    "Webscraped images from Google using Firefox extension \"Google Image Downloader\""
   ]
  },
  {
   "cell_type": "markdown",
   "metadata": {},
   "source": [
    "### Compile images"
   ]
  },
  {
   "cell_type": "markdown",
   "metadata": {
    "ExecuteTime": {
     "end_time": "2018-07-07T23:06:30.164029Z",
     "start_time": "2018-07-07T23:06:30.159519Z"
    }
   },
   "source": [
    "Compile images that were downloaded in saved in folders on desktop. Images have already been hand sorted into categories but need to be compiled into a single location to make training easier and replicable (aka I can have documentation of which images were used or not used in my model.)"
   ]
  },
  {
   "cell_type": "code",
   "execution_count": null,
   "metadata": {
    "collapsed": true
   },
   "outputs": [],
   "source": [
    "def find_imgs(name, savename, savepath):\n",
    "    \n",
    "    orig_dir='/Users/juliannefreeman/Documents/Insight/Project/imgs/imgs_orig/'\n",
    "\n",
    "    count=0\n",
    "    dirs=os.listdir()\n",
    "    for currdir in dirs:\n",
    "        if currdir != '.DS_Store':\n",
    "            folders=os.listdir(orig_dir+currdir)\n",
    "            for folder in folders:\n",
    "                if name in folder:\n",
    "                    print(folder)\n",
    "                    os.chdir(orig_dir+currdir+'/'+folder)\n",
    "                    files=os.listdir()\n",
    "                    for file in files:\n",
    "                        os.chdir(orig_dir+currdir+'/'+folder)\n",
    "                        if file.split(\".\")[-1] == \"jpg\":\n",
    "                            count+=1\n",
    "                            im = Image.open(file)\n",
    "                            if count<10:\n",
    "                                newfile= savename + '_000' + str(count) + '.jpg'\n",
    "                            elif count<100 and count>=10:\n",
    "                                newfile= savename + '_00' + str(count) + '.jpg'\n",
    "                            elif count<1000 and count>=100:\n",
    "                                newfile= savename + '_0' + str(count) + '.jpg'\n",
    "                            elif count>1000:\n",
    "                                newfile= savename + '_'+ str(count)+'.jpg'\n",
    "                            os.chdir(savepath)\n",
    "                            try:\n",
    "                                im.save(newfile,\"JPEG\")\n",
    "                            except:\n",
    "                                im.convert('RGB').save(newfile,\"JPEG\")\n",
    "    return count"
   ]
  },
  {
   "cell_type": "code",
   "execution_count": null,
   "metadata": {
    "collapsed": true
   },
   "outputs": [],
   "source": [
    "name='warrior_2_GOOD'\n",
    "savename='warrior2_img'\n",
    "savepath='/Users/juliannefreeman/Documents/Insight/Project/imgs/imgs_pract5/imgs/warrior2'\n",
    "\n",
    "count=find_imgs(name, savename, savepath)\n",
    "print('\\nfound %d imgs' % (count))"
   ]
  },
  {
   "cell_type": "code",
   "execution_count": null,
   "metadata": {
    "collapsed": true
   },
   "outputs": [],
   "source": [
    "name='triangle_pose_GOOD'\n",
    "savename='trianglepose_img'\n",
    "savepath='/Users/juliannefreeman/Documents/Insight/Project/imgs/imgs_pract5/imgs/trianglepose'\n",
    "\n",
    "count=find_imgs(name, savename, savepath)\n",
    "print('\\nfound %d imgs' % (count))"
   ]
  },
  {
   "cell_type": "code",
   "execution_count": null,
   "metadata": {
    "collapsed": true
   },
   "outputs": [],
   "source": [
    "name='reverse_warrior_GOOD'\n",
    "savename='reversewarrior_img'\n",
    "savepath='/Users/juliannefreeman/Documents/Insight/Project/imgs/imgs_pract5/imgs/reversewarrior'\n",
    "\n",
    "count=find_imgs(name, savename, savepath)\n",
    "print('\\nfound %d imgs' % (count))"
   ]
  },
  {
   "cell_type": "code",
   "execution_count": null,
   "metadata": {
    "collapsed": true
   },
   "outputs": [],
   "source": [
    "name='OTHER'\n",
    "savename='other_img'\n",
    "savepath='/Users/juliannefreeman/Documents/Insight/Project/imgs/imgs_pract5/imgs/other'\n",
    "\n",
    "count=find_imgs(name, savename, savepath)\n",
    "print('\\nfound %d imgs' % (count))"
   ]
  },
  {
   "cell_type": "markdown",
   "metadata": {},
   "source": [
    "### Select 500 random images per catagory"
   ]
  },
  {
   "cell_type": "markdown",
   "metadata": {},
   "source": [
    "To keep groups of images balanced, I only selected 500 images per category. In this way, each category would contain 1000 images after flipping. The images were flipped after pre-processing in OpenPose to prevent one category to being biased in left- or right-facing images."
   ]
  },
  {
   "cell_type": "code",
   "execution_count": null,
   "metadata": {
    "collapsed": true
   },
   "outputs": [],
   "source": [
    "def select_images(ipath, opath, num):\n",
    "\n",
    "    #select random sample\n",
    "    files=os.listdir(ipath)\n",
    "    sample_size = num\n",
    "    sample = random.sample(files, sample_size)\n",
    "    len(sample)\n",
    "\n",
    "    for file in sample:\n",
    "        if file!='.DS_Store':\n",
    "            os.chdir(ipath)\n",
    "            im = Image.open(file)\n",
    "            os.chdir(opath)\n",
    "            im.save(file,\"JPEG\")"
   ]
  },
  {
   "cell_type": "code",
   "execution_count": null,
   "metadata": {
    "collapsed": true
   },
   "outputs": [],
   "source": [
    "# other\n",
    "ipath='/Users/juliannefreeman/Documents/Insight/Project/imgs/final/imgs/other'\n",
    "opath='/Users/juliannefreeman/Documents/Insight/Project/imgs/final/imgs_random/other'\n",
    "select_images(ipath, opath, 100)"
   ]
  },
  {
   "cell_type": "code",
   "execution_count": null,
   "metadata": {
    "collapsed": true
   },
   "outputs": [],
   "source": [
    "# reverse warrior\n",
    "ipath='/Users/juliannefreeman/Documents/Insight/Project/imgs/final/imgs/reversewarrior'\n",
    "opath='/Users/juliannefreeman/Documents/Insight/Project/imgs/final/imgs_random/reversewarrior'\n",
    "select_images(ipath, opath, 100)"
   ]
  },
  {
   "cell_type": "code",
   "execution_count": null,
   "metadata": {
    "collapsed": true
   },
   "outputs": [],
   "source": [
    "# triangle pose\n",
    "ipath='/Users/juliannefreeman/Documents/Insight/Project/imgs/final/imgs/trianglepose'\n",
    "opath='/Users/juliannefreeman/Documents/Insight/Project/imgs/final/imgs_random/trianglepose'\n",
    "select_images(ipath, opath, 100)"
   ]
  },
  {
   "cell_type": "code",
   "execution_count": null,
   "metadata": {
    "collapsed": true
   },
   "outputs": [],
   "source": [
    "# warrior2\n",
    "ipath='/Users/juliannefreeman/Documents/Insight/Project/imgs/final/imgs/warrior2'\n",
    "opath='/Users/juliannefreeman/Documents/Insight/Project/imgs/final/imgs_random/warrior2'\n",
    "select_images(ipath, opath, 100)"
   ]
  },
  {
   "cell_type": "markdown",
   "metadata": {},
   "source": [
    "### OpenPose"
   ]
  },
  {
   "cell_type": "markdown",
   "metadata": {},
   "source": [
    "Ran images through OpenPose. Disabled blending as to only extract keypoint skeletons instead of full image. Because images were processed on a CPU, I had to use a static net-resolution."
   ]
  },
  {
   "cell_type": "markdown",
   "metadata": {
    "ExecuteTime": {
     "end_time": "2018-07-06T23:52:39.641019Z",
     "start_time": "2018-07-06T23:52:39.635181Z"
    },
    "collapsed": true
   },
   "source": [
    "must run code from the terminal while in the openpose_master directory:\n",
    "\n",
    "./build/examples/openpose/openpose.bin --image_dir <'load_directory'> --write_images <'save_directory'> --write_images_format jpg --net_resolution 656x368 --disable_blending\n"
   ]
  },
  {
   "cell_type": "markdown",
   "metadata": {},
   "source": [
    "### Flip images"
   ]
  },
  {
   "cell_type": "markdown",
   "metadata": {},
   "source": [
    "The images were flipped to prevent one category to being biased in left- or right-facing images. Flipping occured after OpenPose processing as to limit the number of images that had to be processed in OpenPose and speed up the pre-processing pipeline."
   ]
  },
  {
   "cell_type": "code",
   "execution_count": null,
   "metadata": {
    "collapsed": true
   },
   "outputs": [],
   "source": [
    "def imgs_flip(file, size, ipath, opath):\n",
    "    os.chdir(ipath)\n",
    "    im = Image.open(file)\n",
    "    newim=im.transpose(Image.FLIP_LEFT_RIGHT)\n",
    "    os.chdir(opath)\n",
    "    newfile=os.path.splitext(file)[0]+'_flipped.jpg'\n",
    "    \n",
    "    #same new and old image\n",
    "    im.save(file,\"JPEG\")\n",
    "    newim.save(newfile,\"JPEG\")"
   ]
  },
  {
   "cell_type": "code",
   "execution_count": null,
   "metadata": {
    "collapsed": true
   },
   "outputs": [],
   "source": [
    "ipath ='/Users/juliannefreeman/Documents/Insight/Project/imgs/imgs_pract5/imgs_random_openpose_noblend'\n",
    "opath ='/Users/juliannefreeman/Documents/Insight/Project/imgs/imgs_pract5/imgs_random_openpose_noblend_flipped'\n",
    "\n",
    "folders=os.listdir(ipath)\n",
    "for folder in folders:\n",
    "    \n",
    "    if folder != '.DS_Store':\n",
    "        \n",
    "        print(folder)\n",
    "        \n",
    "        origpath=ipath+'/'+folder\n",
    "        savepath=opath+'/'+folder\n",
    "        \n",
    "        #find all imgs\n",
    "        files = os.listdir(origpath)\n",
    "\n",
    "        for file in files:\n",
    "            if file.split(\".\")[-1] == \"jpg\":\n",
    "\n",
    "                #load image\n",
    "                os.chdir(origpath)\n",
    "                im = Image.open(file)\n",
    "\n",
    "                #create new image\n",
    "                newfile=os.path.splitext(file)[0]+'_flipped.jpg'\n",
    "                newim=im.transpose(Image.FLIP_LEFT_RIGHT)\n",
    "\n",
    "                #save new and old image\n",
    "                os.chdir(savepath)     \n",
    "                im.save(file,\"JPEG\")\n",
    "                newim.save(newfile,\"JPEG\")"
   ]
  },
  {
   "cell_type": "markdown",
   "metadata": {},
   "source": [
    "### Split data into train (80) and train (20)"
   ]
  },
  {
   "cell_type": "code",
   "execution_count": null,
   "metadata": {
    "collapsed": true
   },
   "outputs": [],
   "source": [
    "#define paths\n",
    "ipath     ='/Users/juliannefreeman/Documents/Insight/Project/imgs/imgs_pract5/imgs_random_openpose_noblend_flipped'\n",
    "train_path='/Users/juliannefreeman/Documents/Insight/Project/imgs/imgs_pract5/model/train'\n",
    "valid_path='/Users/juliannefreeman/Documents/Insight/Project/imgs/imgs_pract5/model/validation'\n",
    "\n",
    "\n",
    "folders=os.listdir(ipath)\n",
    "for folder in folders:\n",
    "    if folder!='.DS_Store':\n",
    "        print(folder)\n",
    "        count=0\n",
    "        origpath=ipath+'/'+folder\n",
    "        train_savepath=train_path+'/'+folder\n",
    "        valid_savepath=valid_path+'/'+folder\n",
    "        \n",
    "        #find all imgs\n",
    "        files = os.listdir(origpath)\n",
    "        if files[0]=='.DS_Store':\n",
    "            files=files[1:]\n",
    "        random.shuffle(files)\n",
    "        \n",
    "        x_train ,x_test = train_test_split(files,test_size=0.2)\n",
    "        len(files)\n",
    "        len(x_train)\n",
    "        len(x_test)\n",
    "        \n",
    "        for file in x_train:\n",
    "            os.chdir(origpath)\n",
    "            im=Image.open(file)\n",
    "            os.chdir(train_savepath)\n",
    "            im.save(file,\"JPEG\")\n",
    "            \n",
    "        for file in x_test:\n",
    "            os.chdir(origpath)\n",
    "            im=Image.open(file)\n",
    "            os.chdir(valid_savepath)\n",
    "            im.save(file,\"JPEG\")\n"
   ]
  },
  {
   "cell_type": "markdown",
   "metadata": {},
   "source": [
    "# 2. Create test set for cross-validation using images collected seperately from YouTube"
   ]
  },
  {
   "cell_type": "markdown",
   "metadata": {},
   "source": [
    "### Download videos for image directory"
   ]
  },
  {
   "cell_type": "code",
   "execution_count": null,
   "metadata": {
    "collapsed": true
   },
   "outputs": [],
   "source": [
    "from pytube import YouTube\n",
    "import os\n",
    "\n",
    "def downloadYouTube(videourl, path):\n",
    "\n",
    "    yt = YouTube(videourl)\n",
    "    yt = yt.streams.filter(progressive=True,file_extension='mp4').order_by('resolution').desc().first()\n",
    "    if not os.path.exists(path):\n",
    "        os.makedirs(path)\n",
    "    yt.download(path)\n",
    "\n",
    "savedir='/Users/juliannefreeman/Documents/Videos'\n",
    "downloadYouTube('https://www.youtube.com/watch?v=9B2Bpk135iA', savedir)"
   ]
  },
  {
   "cell_type": "markdown",
   "metadata": {},
   "source": [
    "# Split into frames"
   ]
  },
  {
   "cell_type": "code",
   "execution_count": null,
   "metadata": {
    "collapsed": true
   },
   "outputs": [],
   "source": [
    "import cv2\n",
    "os.chdir(savedir)\n",
    "vidcap = cv2.VideoCapture('How To Do Warrior 2 Yoga For Beginners.mp4')\n",
    "success,image = vidcap.read()\n",
    "count = 0\n",
    "success = True\n",
    "while success:\n",
    "    success,image = vidcap.read()\n",
    "    print('read a new frame:',success)\n",
    "    if count%20 == 0 :\n",
    "         cv2.imwrite('frame%d.jpg'%count,image)\n",
    "         print('success')\n",
    "    count+=1"
   ]
  },
  {
   "cell_type": "markdown",
   "metadata": {},
   "source": [
    "### Hand organized images from each video into subfolders"
   ]
  },
  {
   "cell_type": "markdown",
   "metadata": {},
   "source": [
    "### Compile all images into folders"
   ]
  },
  {
   "cell_type": "code",
   "execution_count": 20,
   "metadata": {
    "ExecuteTime": {
     "end_time": "2018-06-30T21:18:35.078371Z",
     "start_time": "2018-06-30T21:18:35.043343Z"
    },
    "collapsed": true
   },
   "outputs": [],
   "source": [
    "def find_testings(pose, savename, savepath):\n",
    "    \n",
    "    path='/Users/juliannefreeman/Documents/Insight/Project/imgs/imgs_pract5/model_accuracy/videos/'\n",
    "    \n",
    "    count=0\n",
    "    dirs=os.listdir(path)\n",
    "    for currdir in dirs: #video folders\n",
    "        #print(currdir)\n",
    "        if currdir != '.DS_Store':\n",
    "            folders=os.listdir(path+currdir)\n",
    "            for folder in folders: #pose folders\n",
    "                if pose in folder:\n",
    "                    #print(folder)\n",
    "                    os.chdir(path+currdir+'/'+folder)\n",
    "                    files=os.listdir() #imgs\n",
    "                    for file in files:\n",
    "                        os.chdir(path+currdir+'/'+folder)\n",
    "                        if file.split(\".\")[-1] == \"jpg\":\n",
    "                            count+=1\n",
    "                            im = Image.open(file)\n",
    "                            if count<10:\n",
    "                                newfile= savename + '_000' + str(count) + '_' + currdir + '.jpg'\n",
    "                            elif count<100 and count>=10:\n",
    "                                newfile= savename + '_00' + str(count) + '_' + currdir + '.jpg'\n",
    "                            elif count<1000 and count>=100:\n",
    "                                newfile= savename + '_0' + str(count) + '_' + currdir + '.jpg'\n",
    "                            elif count>1000:\n",
    "                                newfile= savename + '_'+ str(count)+ '_' + currdir + '.jpg'\n",
    "                            os.chdir(savepath)\n",
    "                            try:\n",
    "                                im.save(newfile,\"JPEG\")\n",
    "                            except:\n",
    "                                im.convert('RGB').save(newfile,\"JPEG\")\n",
    "    return count"
   ]
  },
  {
   "cell_type": "code",
   "execution_count": 8,
   "metadata": {
    "ExecuteTime": {
     "end_time": "2018-06-30T21:07:36.739958Z",
     "start_time": "2018-06-30T21:05:17.055177Z"
    },
    "collapsed": false
   },
   "outputs": [
    {
     "data": {
      "text/plain": [
       "2227"
      ]
     },
     "execution_count": 8,
     "metadata": {},
     "output_type": "execute_result"
    }
   ],
   "source": [
    "pose='other'\n",
    "savename=pose\n",
    "savepath='/Users/juliannefreeman/Documents/Insight/Project/imgs/final/model_accuracy/final/'+pose+'/'\n",
    "\n",
    "find_testings(pose, savename, savepath)"
   ]
  },
  {
   "cell_type": "code",
   "execution_count": 19,
   "metadata": {
    "ExecuteTime": {
     "end_time": "2018-06-30T21:18:06.874856Z",
     "start_time": "2018-06-30T21:18:03.636903Z"
    },
    "collapsed": false
   },
   "outputs": [
    {
     "data": {
      "text/plain": [
       "49"
      ]
     },
     "execution_count": 19,
     "metadata": {},
     "output_type": "execute_result"
    }
   ],
   "source": [
    "pose='reversewarrior'\n",
    "savename=pose\n",
    "savepath='/Users/juliannefreeman/Documents/Insight/Project/imgs/final/model_accuracy/final/'+pose+'/'\n",
    "\n",
    "find_testings(pose, savename, savepath)"
   ]
  },
  {
   "cell_type": "code",
   "execution_count": 10,
   "metadata": {
    "ExecuteTime": {
     "end_time": "2018-06-30T21:07:47.773898Z",
     "start_time": "2018-06-30T21:07:39.978929Z"
    },
    "collapsed": false
   },
   "outputs": [
    {
     "data": {
      "text/plain": [
       "140"
      ]
     },
     "execution_count": 10,
     "metadata": {},
     "output_type": "execute_result"
    }
   ],
   "source": [
    "pose='trianglepose'\n",
    "savename=pose\n",
    "savepath='/Users/juliannefreeman/Documents/Insight/Project/imgs/final/model_accuracy/final/'+pose+'/'\n",
    "\n",
    "find_testings(pose, savename, savepath)"
   ]
  },
  {
   "cell_type": "code",
   "execution_count": 11,
   "metadata": {
    "ExecuteTime": {
     "end_time": "2018-06-30T21:07:59.464315Z",
     "start_time": "2018-06-30T21:07:47.775267Z"
    },
    "collapsed": false
   },
   "outputs": [
    {
     "data": {
      "text/plain": [
       "163"
      ]
     },
     "execution_count": 11,
     "metadata": {},
     "output_type": "execute_result"
    }
   ],
   "source": [
    "pose='warrior2'\n",
    "savename=pose\n",
    "savepath='/Users/juliannefreeman/Documents/Insight/Project/imgs/final/model_accuracy/final/'+pose+'/'\n",
    "\n",
    "find_testings(pose, savename, savepath)"
   ]
  },
  {
   "cell_type": "markdown",
   "metadata": {},
   "source": [
    "### flip images\n",
    "I decided to flip images BEFORE running open pose as I have less than 100 images in some categorie and I need to flip the images in order to augment the sample size."
   ]
  },
  {
   "cell_type": "code",
   "execution_count": 21,
   "metadata": {
    "ExecuteTime": {
     "end_time": "2018-06-30T21:23:07.344506Z",
     "start_time": "2018-06-30T21:23:07.321343Z"
    },
    "collapsed": true
   },
   "outputs": [],
   "source": [
    "def imgs_flip(file, size, ipath, opath):\n",
    "    os.chdir(ipath)\n",
    "    im = Image.open(file)\n",
    "    newim=im.transpose(Image.FLIP_LEFT_RIGHT)\n",
    "    os.chdir(opath)\n",
    "    newfile=os.path.splitext(file)[0]+'_flipped.jpg'\n",
    "    \n",
    "    #same new and old image\n",
    "    im.save(file,\"JPEG\")\n",
    "    newim.save(newfile,\"JPEG\")"
   ]
  },
  {
   "cell_type": "code",
   "execution_count": 22,
   "metadata": {
    "ExecuteTime": {
     "end_time": "2018-06-30T21:27:16.062602Z",
     "start_time": "2018-06-30T21:23:14.681385Z"
    },
    "collapsed": false
   },
   "outputs": [
    {
     "name": "stdout",
     "output_type": "stream",
     "text": [
      "other\n",
      "reversewarrior\n",
      "trianglepose\n",
      "warrior2\n"
     ]
    }
   ],
   "source": [
    "ipath ='/Users/juliannefreeman/Documents/Insight/Project/imgs/final/model_accuracy/final/'\n",
    "opath ='/Users/juliannefreeman/Documents/Insight/Project/imgs/final/model_accuracy/final_flip/'\n",
    "size=(800,600)\n",
    "\n",
    "folders=os.listdir(ipath)\n",
    "\n",
    "for folder in folders: #poses\n",
    "    \n",
    "    if folder != '.DS_Store':\n",
    "        \n",
    "        print(folder)\n",
    "        origpath=ipath+'/'+folder\n",
    "        savepath=opath+'/'+folder\n",
    "        \n",
    "        #find all imgs\n",
    "        files = os.listdir(origpath)\n",
    "\n",
    "        for file in files:\n",
    "            if file.split(\".\")[-1] == \"jpg\":\n",
    "\n",
    "                #load image\n",
    "                os.chdir(origpath)\n",
    "                im = Image.open(file)\n",
    "\n",
    "                #create new image\n",
    "                newfile=os.path.splitext(file)[0]+'_flipped.jpg'\n",
    "                newim=im.transpose(Image.FLIP_LEFT_RIGHT)\n",
    "\n",
    "                #save new and old image\n",
    "                os.chdir(savepath)     \n",
    "                im.save(file,\"JPEG\")\n",
    "                newim.save(newfile,\"JPEG\")"
   ]
  },
  {
   "cell_type": "markdown",
   "metadata": {},
   "source": [
    "### sample 100 images per category"
   ]
  },
  {
   "cell_type": "code",
   "execution_count": 14,
   "metadata": {
    "ExecuteTime": {
     "end_time": "2018-06-30T21:14:37.015872Z",
     "start_time": "2018-06-30T21:14:36.990116Z"
    },
    "collapsed": true
   },
   "outputs": [],
   "source": [
    "def random_sample(ipath, opath, sample_size):\n",
    "    #select random sample\n",
    "    files=os.listdir(ipath)\n",
    "    sample = random.sample(files, sample_size)\n",
    "    len(sample)\n",
    "\n",
    "    for file in sample:\n",
    "        os.chdir(ipath)\n",
    "        im = Image.open(file)\n",
    "        os.chdir(opath)\n",
    "        im.save(file,\"JPEG\")"
   ]
  },
  {
   "cell_type": "code",
   "execution_count": 27,
   "metadata": {
    "ExecuteTime": {
     "end_time": "2018-06-30T21:37:00.552457Z",
     "start_time": "2018-06-30T21:36:54.811084Z"
    },
    "collapsed": true
   },
   "outputs": [],
   "source": [
    "pose='other'\n",
    "sample_size=100\n",
    "\n",
    "ipath ='/Users/juliannefreeman/Documents/Insight/Project/imgs/final/model_accuracy/final_flip/'+pose\n",
    "opath ='/Users/juliannefreeman/Documents/Insight/Project/imgs/final/model_accuracy/final_flip_sample/'+pose\n",
    "\n",
    "random_sample(ipath, opath, sample_size)"
   ]
  },
  {
   "cell_type": "code",
   "execution_count": 28,
   "metadata": {
    "ExecuteTime": {
     "end_time": "2018-06-30T21:37:40.948159Z",
     "start_time": "2018-06-30T21:37:34.368630Z"
    },
    "collapsed": true
   },
   "outputs": [],
   "source": [
    "pose='warrior2'\n",
    "sample_size=100\n",
    "\n",
    "ipath ='/Users/juliannefreeman/Documents/Insight/Project/imgs/final/model_accuracy/final_flip/'+pose\n",
    "opath ='/Users/juliannefreeman/Documents/Insight/Project/imgs/final/model_accuracy/final_flip_sample/'+pose\n",
    "\n",
    "random_sample(ipath, opath, sample_size)"
   ]
  },
  {
   "cell_type": "code",
   "execution_count": 29,
   "metadata": {
    "ExecuteTime": {
     "end_time": "2018-06-30T21:37:47.030242Z",
     "start_time": "2018-06-30T21:37:40.949169Z"
    },
    "collapsed": false
   },
   "outputs": [],
   "source": [
    "pose='reversewarrior'\n",
    "sample_size=100\n",
    "\n",
    "ipath ='/Users/juliannefreeman/Documents/Insight/Project/imgs/final/model_accuracy/final_flip/'+pose\n",
    "opath ='/Users/juliannefreeman/Documents/Insight/Project/imgs/final/model_accuracy/final_flip_sample/'+pose\n",
    "\n",
    "random_sample(ipath, opath, sample_size)"
   ]
  },
  {
   "cell_type": "code",
   "execution_count": 31,
   "metadata": {
    "ExecuteTime": {
     "end_time": "2018-06-30T22:27:02.369127Z",
     "start_time": "2018-06-30T22:26:57.095916Z"
    },
    "collapsed": true
   },
   "outputs": [],
   "source": [
    "pose='trianglepose'\n",
    "sample_size=100\n",
    "\n",
    "ipath ='/Users/juliannefreeman/Documents/Insight/Project/imgs/final/model_accuracy/final_flip/'+pose\n",
    "opath ='/Users/juliannefreeman/Documents/Insight/Project/imgs/final/model_accuracy/final_flip_sample/'+pose\n",
    "\n",
    "random_sample(ipath, opath, sample_size)"
   ]
  },
  {
   "cell_type": "markdown",
   "metadata": {},
   "source": [
    "### OpenPose"
   ]
  },
  {
   "cell_type": "markdown",
   "metadata": {},
   "source": [
    "must run code from the terminal while in the openpose_master directory:\n",
    "\n",
    "./build/examples/openpose/openpose.bin --image_dir <'load_directory'> --write_images <'save_directory'> --write_images_format jpg --net_resolution 656x368 --disable_blending\n"
   ]
  },
  {
   "cell_type": "code",
   "execution_count": null,
   "metadata": {
    "collapsed": true
   },
   "outputs": [],
   "source": []
  },
  {
   "cell_type": "code",
   "execution_count": null,
   "metadata": {
    "collapsed": true
   },
   "outputs": [],
   "source": []
  },
  {
   "cell_type": "code",
   "execution_count": null,
   "metadata": {
    "collapsed": true
   },
   "outputs": [],
   "source": []
  }
 ],
 "metadata": {
  "kernelspec": {
   "display_name": "Python 3",
   "language": "python",
   "name": "python3"
  },
  "language_info": {
   "codemirror_mode": {
    "name": "ipython",
    "version": 3
   },
   "file_extension": ".py",
   "mimetype": "text/x-python",
   "name": "python",
   "nbconvert_exporter": "python",
   "pygments_lexer": "ipython3",
   "version": "3.6.3"
  }
 },
 "nbformat": 4,
 "nbformat_minor": 2
}
